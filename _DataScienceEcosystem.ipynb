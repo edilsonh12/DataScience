{
  "metadata": {
    "language_info": {
      "codemirror_mode": {
        "name": "python",
        "version": 3
      },
      "file_extension": ".py",
      "mimetype": "text/x-python",
      "name": "python",
      "nbconvert_exporter": "python",
      "pygments_lexer": "ipython3",
      "version": "3.8"
    },
    "kernelspec": {
      "name": "python",
      "display_name": "Python (Pyodide)",
      "language": "python"
    }
  },
  "nbformat_minor": 4,
  "nbformat": 4,
  "cells": [
    {
      "cell_type": "markdown",
      "source": "# Data Science Tools and Ecosystem",
      "metadata": {}
    },
    {
      "cell_type": "markdown",
      "source": "## In this notebook, Data Science Tools and Ecosystem are summarized.",
      "metadata": {}
    },
    {
      "cell_type": "markdown",
      "source": "**Objectives:**\n\n* Listed some of the popular languages for data science.\n* Listed frequently used libraries for data science\n* chart with open source tools used for data science\n* some arithmetic experiments\n* some examples of the use of arithmetic expressions",
      "metadata": {}
    },
    {
      "cell_type": "markdown",
      "source": " *Some of the popular languages that Data Scientists use are:*\n\n 1. Python\n 2. R\n 3. SQL\n 4. Scala\n 5. Java\n 6. C++ \n 7. Julia",
      "metadata": {}
    },
    {
      "cell_type": "markdown",
      "source": "*Some of the commonly used libraries used by Data Scientists include:*\n\n1. Pandas\n2. NumPy\n3. Matplotlib\n4. Seaborn\n5. Scikit-Learn\n6. Keras",
      "metadata": {}
    },
    {
      "cell_type": "markdown",
      "source": "| Data Science Tools. |\n| -------------------- |\n|  Jupyter Notebooks |\n| Anaconda  |\n| Rstudio |\n",
      "metadata": {}
    },
    {
      "cell_type": "markdown",
      "source": "### Below are a few examples of evaluating arithmetic expressions in Python.\n\n\n| Expresion |    Description   |    use   |\n|---------- | --------------- | --------- |\n| +       |  *Performs Addition between the operands* |12 + 3 = 15 |\n| -  | *Performs Subtraction between the operands* | 12 - 3 = 9 |\n|*   |  *Performs Multiplication between the operands*  | 12 * 3 = 36 |\n| /       | *Performs Division between the operands* | 12 / 3 = 4 |\n",
      "metadata": {}
    },
    {
      "cell_type": "code",
      "source": "(3*4)+5",
      "metadata": {
        "trusted": true
      },
      "execution_count": 5,
      "outputs": [
        {
          "execution_count": 5,
          "output_type": "execute_result",
          "data": {
            "text/plain": "17"
          },
          "metadata": {}
        }
      ]
    },
    {
      "cell_type": "markdown",
      "source": "In the next cell, 200 minutes will be transformed into hours. To do this, we must divide the 200 minutes by 60, which are the number of minutes in an hour.",
      "metadata": {}
    },
    {
      "cell_type": "code",
      "source": "min = 200\nhours = min / 60\nprint (hours)",
      "metadata": {
        "trusted": true
      },
      "execution_count": 9,
      "outputs": [
        {
          "name": "stdout",
          "text": "3.3333333333333335\n",
          "output_type": "stream"
        }
      ]
    },
    {
      "cell_type": "markdown",
      "source": "## Author\n\nEdilson Andres Hoyos Suarez\n",
      "metadata": {}
    },
    {
      "cell_type": "code",
      "source": "",
      "metadata": {},
      "execution_count": null,
      "outputs": []
    }
  ]
}